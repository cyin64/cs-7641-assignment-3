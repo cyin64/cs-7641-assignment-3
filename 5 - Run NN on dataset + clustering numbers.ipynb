{
 "cells": [
  {
   "cell_type": "code",
   "execution_count": 32,
   "metadata": {},
   "outputs": [],
   "source": [
    "import numpy as np\n",
    "import matplotlib.pyplot as plt\n",
    "import pandas as pd\n",
    "from sklearn.decomposition import PCA\n",
    "from sklearn.decomposition import FastICA, PCA\n",
    "from sklearn import random_projection\n",
    "from sklearn.decomposition import TruncatedSVD\n",
    "from sklearn.mixture import GaussianMixture\n",
    "from sklearn.cluster import KMeans\n",
    "from yellowbrick.cluster import SilhouetteVisualizer\n",
    "from yellowbrick.cluster import InterclusterDistance\n",
    "from yellowbrick.cluster import KElbowVisualizer\n",
    "from sklearn.model_selection import train_test_split\n",
    "from sklearn import metrics\n",
    "import time\n",
    "from scipy import linalg\n",
    "import matplotlib as mpl\n",
    "import itertools\n",
    "\n",
    "from sklearn.metrics import v_measure_score, homogeneity_score, adjusted_mutual_info_score\n",
    "\n",
    "\n",
    "import matplotlib.cm as cm\n",
    "\n",
    "from sklearn.utils import shuffle\n",
    "from sklearn.utils import check_random_state\n",
    "from sklearn.cluster import MiniBatchKMeans\n",
    "\n",
    "from sklearn.metrics import accuracy_score\n",
    "from sklearn.model_selection import (GridSearchCV, train_test_split, validation_curve)   \n",
    "from sklearn.ensemble import AdaBoostClassifier\n",
    "from sklearn.svm import SVC\n",
    "from sklearn.tree import DecisionTreeClassifier\n",
    "from sklearn.neighbors import KNeighborsClassifier\n",
    "from sklearn.neural_network import MLPClassifier\n",
    "from sklearn import preprocessing\n",
    "from yellowbrick.model_selection import LearningCurve, ValidationCurve\n",
    "\n",
    "from sklearn.model_selection import cross_val_score\n",
    "import time\n",
    "\n",
    "np.random.seed(42)"
   ]
  },
  {
   "cell_type": "code",
   "execution_count": 33,
   "metadata": {},
   "outputs": [],
   "source": [
    "def load_data(ds):\n",
    "    df = pd.read_csv(\"data/\" + ds)\n",
    "    X, y = df.iloc[:, :-1], df.iloc[:, -1]\n",
    "    X, y = X.to_numpy(), y.to_numpy()\n",
    "    return X, y"
   ]
  },
  {
   "attachments": {},
   "cell_type": "markdown",
   "metadata": {},
   "source": [
    "## PCA + K-means"
   ]
  },
  {
   "cell_type": "code",
   "execution_count": 34,
   "metadata": {},
   "outputs": [
    {
     "name": "stderr",
     "output_type": "stream",
     "text": [
      "C:\\Users\\chang\\AppData\\Roaming\\Python\\Python311\\site-packages\\sklearn\\cluster\\_kmeans.py:870: FutureWarning: The default value of `n_init` will change from 10 to 'auto' in 1.4. Set the value of `n_init` explicitly to suppress the warning\n",
      "  warnings.warn(\n"
     ]
    },
    {
     "name": "stdout",
     "output_type": "stream",
     "text": [
      "Train time: 0.046709537506103516\n",
      "Query time: 0.001999378204345703\n",
      "Cross validation score: 0.7105\n",
      "Train time: 0.0521848201751709\n",
      "Query time: 0.0020062923431396484\n",
      "Test Accuracy: 0.688\n"
     ]
    }
   ],
   "source": [
    "X, y = load_data('bank_personal_loan_modelling.csv')\n",
    "pca = PCA(n_components= 10).fit(X)\n",
    "X_pca = pca.transform(X)\n",
    "start = time.time()\n",
    "kmeans=KMeans(3).fit(X_pca)\n",
    "train_time = time.time() - start\n",
    "print(\"Train time: \" + str(train_time))\n",
    "\n",
    "start = time.time()\n",
    "kmeans.predict(X_pca)\n",
    "query_time = time.time() - start\n",
    "print(\"Query time: \" + str(query_time))\n",
    "y_pca = kmeans.predict(X_pca)\n",
    "\n",
    "result = pd.concat([pd.DataFrame(X_pca), pd.DataFrame(y_pca)], axis=1, sort=False)\n",
    "result.columns = [0, 1, 2, 3, 4, 5, 6, 7, 8, 9, 10]\n",
    "\n",
    "clf = MLPClassifier(max_iter= 5000, hidden_layer_sizes=(5,2), activation='logistic', verbose=False, learning_rate_init=0.0001)\n",
    "X_train, X_test, y_train, y_test = train_test_split(result, y, test_size=0.2)\n",
    "\n",
    "cv_score = cross_val_score(clf, X_train, y_train, cv=20).mean()\n",
    "print(\"Cross validation score: \" + str(cv_score))\n",
    "\n",
    "start = time.time()\n",
    "clf.fit(X_train, y_train)\n",
    "train_time = time.time() - start\n",
    "print(\"Train time: \" + str(train_time))\n",
    "\n",
    "start = time.time()\n",
    "y_pred = clf.predict(X_test)\n",
    "query_time = time.time() - start\n",
    "print(\"Query time: \" + str(query_time))\n",
    "\n",
    "score = accuracy_score(y_test, y_pred)\n",
    "print(\"Test Accuracy: \" + str(score))"
   ]
  },
  {
   "attachments": {},
   "cell_type": "markdown",
   "metadata": {},
   "source": [
    "## ICA + K-means"
   ]
  },
  {
   "cell_type": "code",
   "execution_count": 35,
   "metadata": {},
   "outputs": [
    {
     "name": "stderr",
     "output_type": "stream",
     "text": [
      "C:\\Users\\chang\\AppData\\Roaming\\Python\\Python311\\site-packages\\sklearn\\decomposition\\_fastica.py:542: FutureWarning: Starting in v1.3, whiten='unit-variance' will be used by default.\n",
      "  warnings.warn(\n",
      "C:\\Users\\chang\\AppData\\Roaming\\Python\\Python311\\site-packages\\sklearn\\cluster\\_kmeans.py:870: FutureWarning: The default value of `n_init` will change from 10 to 'auto' in 1.4. Set the value of `n_init` explicitly to suppress the warning\n",
      "  warnings.warn(\n"
     ]
    },
    {
     "name": "stdout",
     "output_type": "stream",
     "text": [
      "Train time: 0.13132977485656738\n",
      "Query time: 0.0010008811950683594\n",
      "Cross validation score: 0.7014999999999998\n",
      "Train time: 1.0304443836212158\n",
      "Query time: 0.0010004043579101562\n",
      "Test Accuracy: 0.724\n"
     ]
    }
   ],
   "source": [
    "X, y = load_data('bank_personal_loan_modelling.csv')\n",
    "ica = FastICA(n_components= 11).fit(X)\n",
    "X_ica = ica.transform(X)\n",
    "start = time.time()\n",
    "kmeans=KMeans(3).fit(X_ica)\n",
    "train_time = time.time() - start\n",
    "print(\"Train time: \" + str(train_time))\n",
    "\n",
    "start = time.time()\n",
    "kmeans.predict(X_ica)\n",
    "query_time = time.time() - start\n",
    "print(\"Query time: \" + str(query_time))\n",
    "y_ica = kmeans.predict(X_ica)\n",
    "\n",
    "result = pd.concat([pd.DataFrame(X_ica), pd.DataFrame(y_ica)], axis=1, sort=False)\n",
    "result.columns = [0, 1, 2, 3, 4, 5, 6, 7, 8, 9, 10, 11]\n",
    "\n",
    "clf = MLPClassifier(max_iter= 5000, hidden_layer_sizes=(5,2), activation='logistic', verbose=False, learning_rate_init=0.0001)\n",
    "X_train, X_test, y_train, y_test = train_test_split(result, y, test_size=0.2)\n",
    "\n",
    "cv_score = cross_val_score(clf, X_train, y_train, cv=20).mean()\n",
    "print(\"Cross validation score: \" + str(cv_score))\n",
    "\n",
    "start = time.time()\n",
    "clf.fit(X_train, y_train)\n",
    "train_time = time.time() - start\n",
    "print(\"Train time: \" + str(train_time))\n",
    "\n",
    "start = time.time()\n",
    "y_pred = clf.predict(X_test)\n",
    "query_time = time.time() - start\n",
    "print(\"Query time: \" + str(query_time))\n",
    "\n",
    "score = accuracy_score(y_test, y_pred)\n",
    "print(\"Test Accuracy: \" + str(score))"
   ]
  },
  {
   "attachments": {},
   "cell_type": "markdown",
   "metadata": {},
   "source": [
    "## RP + K-means"
   ]
  },
  {
   "cell_type": "code",
   "execution_count": 36,
   "metadata": {},
   "outputs": [
    {
     "name": "stdout",
     "output_type": "stream",
     "text": [
      "Train time: 0.06789302825927734\n",
      "Query time: 0.0010018348693847656\n"
     ]
    },
    {
     "name": "stderr",
     "output_type": "stream",
     "text": [
      "C:\\Users\\chang\\AppData\\Roaming\\Python\\Python311\\site-packages\\sklearn\\cluster\\_kmeans.py:870: FutureWarning: The default value of `n_init` will change from 10 to 'auto' in 1.4. Set the value of `n_init` explicitly to suppress the warning\n",
      "  warnings.warn(\n"
     ]
    },
    {
     "name": "stdout",
     "output_type": "stream",
     "text": [
      "Cross validation score: 0.7032499999999998\n",
      "Train time: 0.9021775722503662\n",
      "Query time: 0.0012564659118652344\n",
      "Test Accuracy: 0.717\n"
     ]
    }
   ],
   "source": [
    "X, y = load_data('bank_personal_loan_modelling.csv')\n",
    "rp = random_projection.SparseRandomProjection(n_components=6).fit(X)\n",
    "X_rp = rp.transform(X)\n",
    "start = time.time()\n",
    "kmeans=KMeans(3).fit(X_rp)\n",
    "train_time = time.time() - start\n",
    "print(\"Train time: \" + str(train_time))\n",
    "\n",
    "start = time.time()\n",
    "kmeans.predict(X_rp)\n",
    "query_time = time.time() - start\n",
    "print(\"Query time: \" + str(query_time))\n",
    "y_rp = kmeans.predict(X_rp)\n",
    "\n",
    "result = pd.concat([pd.DataFrame(X_rp), pd.DataFrame(y_rp)], axis=1, sort=False)\n",
    "result.columns = [0, 1, 2, 3, 4, 5, 6]\n",
    "\n",
    "clf = MLPClassifier(max_iter= 5000, hidden_layer_sizes=(5,2), activation='logistic', verbose=False, learning_rate_init=0.0001)\n",
    "X_train, X_test, y_train, y_test = train_test_split(result, y, test_size=0.2)\n",
    "\n",
    "cv_score = cross_val_score(clf, X_train, y_train, cv=20).mean()\n",
    "print(\"Cross validation score: \" + str(cv_score))\n",
    "\n",
    "start = time.time()\n",
    "clf.fit(X_train, y_train)\n",
    "train_time = time.time() - start\n",
    "print(\"Train time: \" + str(train_time))\n",
    "\n",
    "start = time.time()\n",
    "y_pred = clf.predict(X_test)\n",
    "query_time = time.time() - start\n",
    "print(\"Query time: \" + str(query_time))\n",
    "\n",
    "score = accuracy_score(y_test, y_pred)\n",
    "print(\"Test Accuracy: \" + str(score))"
   ]
  },
  {
   "attachments": {},
   "cell_type": "markdown",
   "metadata": {},
   "source": [
    "## SVD + K-means"
   ]
  },
  {
   "cell_type": "code",
   "execution_count": 37,
   "metadata": {},
   "outputs": [
    {
     "name": "stdout",
     "output_type": "stream",
     "text": [
      "Train time: 0.04311037063598633\n",
      "Query time: 0.0030579566955566406\n"
     ]
    },
    {
     "name": "stderr",
     "output_type": "stream",
     "text": [
      "C:\\Users\\chang\\AppData\\Roaming\\Python\\Python311\\site-packages\\sklearn\\cluster\\_kmeans.py:870: FutureWarning: The default value of `n_init` will change from 10 to 'auto' in 1.4. Set the value of `n_init` explicitly to suppress the warning\n",
      "  warnings.warn(\n"
     ]
    },
    {
     "name": "stdout",
     "output_type": "stream",
     "text": [
      "Cross validation score: 0.7070000000000002\n",
      "Train time: 0.9463660717010498\n",
      "Query time: 0.0016164779663085938\n",
      "Test Accuracy: 0.702\n"
     ]
    }
   ],
   "source": [
    "X, y = load_data('bank_personal_loan_modelling.csv')\n",
    "tsvd = TruncatedSVD(n_components=4).fit(X)\n",
    "X_tsvd = tsvd.transform(X)\n",
    "start = time.time()\n",
    "kmeans=KMeans(3).fit(X_tsvd)\n",
    "train_time = time.time() - start\n",
    "print(\"Train time: \" + str(train_time))\n",
    "\n",
    "start = time.time()\n",
    "kmeans.predict(X_tsvd)\n",
    "query_time = time.time() - start\n",
    "print(\"Query time: \" + str(query_time))\n",
    "y_tsvd = kmeans.predict(X_tsvd)\n",
    "\n",
    "result = pd.concat([pd.DataFrame(X_tsvd), pd.DataFrame(y_tsvd)], axis=1, sort=False)\n",
    "result.columns = [0, 1, 2, 3, 4]\n",
    "\n",
    "clf = MLPClassifier(max_iter= 5000, hidden_layer_sizes=(5,2), activation='logistic', verbose=False, learning_rate_init=0.0001)\n",
    "X_train, X_test, y_train, y_test = train_test_split(result, y, test_size=0.2)\n",
    "\n",
    "cv_score = cross_val_score(clf, X_train, y_train, cv=20).mean()\n",
    "print(\"Cross validation score: \" + str(cv_score))\n",
    "\n",
    "start = time.time()\n",
    "clf.fit(X_train, y_train)\n",
    "train_time = time.time() - start\n",
    "print(\"Train time: \" + str(train_time))\n",
    "\n",
    "start = time.time()\n",
    "y_pred = clf.predict(X_test)\n",
    "query_time = time.time() - start\n",
    "print(\"Query time: \" + str(query_time))\n",
    "\n",
    "score = accuracy_score(y_test, y_pred)\n",
    "print(\"Test Accuracy: \" + str(score))"
   ]
  },
  {
   "attachments": {},
   "cell_type": "markdown",
   "metadata": {},
   "source": [
    "## PCA + EM"
   ]
  },
  {
   "cell_type": "code",
   "execution_count": 38,
   "metadata": {},
   "outputs": [
    {
     "name": "stdout",
     "output_type": "stream",
     "text": [
      "Train time: 0.09575152397155762\n",
      "Query time: 0.003027200698852539\n",
      "Cross validation score: 0.70175\n",
      "Train time: 1.3839733600616455\n",
      "Query time: 0.00099945068359375\n",
      "Test Accuracy: 0.723\n"
     ]
    }
   ],
   "source": [
    "X, y = load_data('bank_personal_loan_modelling.csv')\n",
    "pca = PCA(n_components= 10).fit(X)\n",
    "X_pca = pca.transform(X)\n",
    "start = time.time()\n",
    "kmeans=GaussianMixture(2).fit(X_pca)\n",
    "train_time = time.time() - start\n",
    "print(\"Train time: \" + str(train_time))\n",
    "\n",
    "start = time.time()\n",
    "kmeans.predict(X_pca)\n",
    "query_time = time.time() - start\n",
    "print(\"Query time: \" + str(query_time))\n",
    "y_pca = kmeans.predict(X_pca)\n",
    "\n",
    "result = pd.concat([pd.DataFrame(X_pca), pd.DataFrame(y_pca)], axis=1, sort=False)\n",
    "result.columns = [0, 1, 2, 3, 4, 5, 6, 7, 8, 9, 10]\n",
    "\n",
    "clf = MLPClassifier(max_iter= 5000, hidden_layer_sizes=(5,2), activation='logistic', verbose=False, learning_rate_init=0.0001)\n",
    "X_train, X_test, y_train, y_test = train_test_split(result, y, test_size=0.2)\n",
    "\n",
    "cv_score = cross_val_score(clf, X_train, y_train, cv=20).mean()\n",
    "print(\"Cross validation score: \" + str(cv_score))\n",
    "\n",
    "start = time.time()\n",
    "clf.fit(X_train, y_train)\n",
    "train_time = time.time() - start\n",
    "print(\"Train time: \" + str(train_time))\n",
    "\n",
    "start = time.time()\n",
    "y_pred = clf.predict(X_test)\n",
    "query_time = time.time() - start\n",
    "print(\"Query time: \" + str(query_time))\n",
    "\n",
    "score = accuracy_score(y_test, y_pred)\n",
    "print(\"Test Accuracy: \" + str(score))"
   ]
  },
  {
   "attachments": {},
   "cell_type": "markdown",
   "metadata": {},
   "source": [
    "## ICA + EM"
   ]
  },
  {
   "cell_type": "code",
   "execution_count": 39,
   "metadata": {},
   "outputs": [
    {
     "name": "stdout",
     "output_type": "stream",
     "text": [
      "Train time: 0.027276992797851562\n",
      "Query time: 0.0020101070404052734\n"
     ]
    },
    {
     "name": "stderr",
     "output_type": "stream",
     "text": [
      "C:\\Users\\chang\\AppData\\Roaming\\Python\\Python311\\site-packages\\sklearn\\decomposition\\_fastica.py:542: FutureWarning: Starting in v1.3, whiten='unit-variance' will be used by default.\n",
      "  warnings.warn(\n"
     ]
    },
    {
     "name": "stdout",
     "output_type": "stream",
     "text": [
      "Cross validation score: 0.7060000000000001\n",
      "Train time: 0.09665298461914062\n",
      "Query time: 0.0009987354278564453\n",
      "Test Accuracy: 0.706\n"
     ]
    }
   ],
   "source": [
    "X, y = load_data('bank_personal_loan_modelling.csv')\n",
    "ica = FastICA(n_components= 11).fit(X)\n",
    "X_ica = ica.transform(X)\n",
    "start = time.time()\n",
    "kmeans=GaussianMixture(2).fit(X_ica)\n",
    "train_time = time.time() - start\n",
    "print(\"Train time: \" + str(train_time))\n",
    "\n",
    "start = time.time()\n",
    "kmeans.predict(X_ica)\n",
    "query_time = time.time() - start\n",
    "print(\"Query time: \" + str(query_time))\n",
    "y_ica = kmeans.predict(X_ica)\n",
    "\n",
    "result = pd.concat([pd.DataFrame(X_ica), pd.DataFrame(y_ica)], axis=1, sort=False)\n",
    "result.columns = [0, 1, 2, 3, 4, 5, 6, 7, 8, 9, 10, 11]\n",
    "\n",
    "clf = MLPClassifier(max_iter= 5000, hidden_layer_sizes=(5,2), activation='logistic', verbose=False, learning_rate_init=0.0001)\n",
    "X_train, X_test, y_train, y_test = train_test_split(result, y, test_size=0.2)\n",
    "\n",
    "cv_score = cross_val_score(clf, X_train, y_train, cv=20).mean()\n",
    "print(\"Cross validation score: \" + str(cv_score))\n",
    "\n",
    "start = time.time()\n",
    "clf.fit(X_train, y_train)\n",
    "train_time = time.time() - start\n",
    "print(\"Train time: \" + str(train_time))\n",
    "\n",
    "start = time.time()\n",
    "y_pred = clf.predict(X_test)\n",
    "query_time = time.time() - start\n",
    "print(\"Query time: \" + str(query_time))\n",
    "\n",
    "score = accuracy_score(y_test, y_pred)\n",
    "print(\"Test Accuracy: \" + str(score))"
   ]
  },
  {
   "attachments": {},
   "cell_type": "markdown",
   "metadata": {},
   "source": [
    "## RP + EM"
   ]
  },
  {
   "cell_type": "code",
   "execution_count": 40,
   "metadata": {},
   "outputs": [
    {
     "name": "stdout",
     "output_type": "stream",
     "text": [
      "Train time: 0.04836583137512207\n",
      "Query time: 0.0020537376403808594\n",
      "Cross validation score: 0.7097500000000001\n",
      "Train time: 2.1209890842437744\n",
      "Query time: 0.0010008811950683594\n",
      "Test Accuracy: 0.691\n"
     ]
    }
   ],
   "source": [
    "X, y = load_data('bank_personal_loan_modelling.csv')\n",
    "rp = random_projection.SparseRandomProjection(n_components= 6).fit(X)\n",
    "X_rp = rp.transform(X)\n",
    "start = time.time()\n",
    "kmeans=GaussianMixture(2).fit(X_rp)\n",
    "train_time = time.time() - start\n",
    "print(\"Train time: \" + str(train_time))\n",
    "\n",
    "start = time.time()\n",
    "kmeans.predict(X_rp)\n",
    "query_time = time.time() - start\n",
    "print(\"Query time: \" + str(query_time))\n",
    "y_rp = kmeans.predict(X_rp)\n",
    "\n",
    "result = pd.concat([pd.DataFrame(X_rp), pd.DataFrame(y_rp)], axis=1, sort=False)\n",
    "result.columns = [0, 1, 2, 3, 4, 5, 6]\n",
    "\n",
    "clf = MLPClassifier(max_iter= 5000, hidden_layer_sizes=(5,2), activation='logistic', verbose=False, learning_rate_init=0.0001)\n",
    "X_train, X_test, y_train, y_test = train_test_split(result, y, test_size=0.2)\n",
    "\n",
    "cv_score = cross_val_score(clf, X_train, y_train, cv=20).mean()\n",
    "print(\"Cross validation score: \" + str(cv_score))\n",
    "\n",
    "start = time.time()\n",
    "clf.fit(X_train, y_train)\n",
    "train_time = time.time() - start\n",
    "print(\"Train time: \" + str(train_time))\n",
    "\n",
    "start = time.time()\n",
    "y_pred = clf.predict(X_test)\n",
    "query_time = time.time() - start\n",
    "print(\"Query time: \" + str(query_time))\n",
    "\n",
    "score = accuracy_score(y_test, y_pred)\n",
    "print(\"Test Accuracy: \" + str(score))"
   ]
  },
  {
   "attachments": {},
   "cell_type": "markdown",
   "metadata": {},
   "source": [
    "## SVD + EM"
   ]
  },
  {
   "cell_type": "code",
   "execution_count": 41,
   "metadata": {},
   "outputs": [
    {
     "name": "stdout",
     "output_type": "stream",
     "text": [
      "Train time: 0.03817915916442871\n",
      "Query time: 0.0010001659393310547\n",
      "Cross validation score: 0.7077500000000002\n",
      "Train time: 0.5260059833526611\n",
      "Query time: 0.0010089874267578125\n",
      "Test Accuracy: 0.699\n"
     ]
    }
   ],
   "source": [
    "X, y = load_data('bank_personal_loan_modelling.csv')\n",
    "tsvd = TruncatedSVD(n_components= 6).fit(X)\n",
    "X_tsvd = tsvd.transform(X)\n",
    "start = time.time()\n",
    "kmeans=GaussianMixture(2).fit(X_tsvd)\n",
    "train_time = time.time() - start\n",
    "print(\"Train time: \" + str(train_time))\n",
    "\n",
    "start = time.time()\n",
    "kmeans.predict(X_tsvd)\n",
    "query_time = time.time() - start\n",
    "print(\"Query time: \" + str(query_time))\n",
    "y_tsvd = kmeans.predict(X_tsvd)\n",
    "\n",
    "result = pd.concat([pd.DataFrame(X_tsvd), pd.DataFrame(y_tsvd)], axis=1, sort=False)\n",
    "result.columns = [0, 1, 2, 3, 4, 5, 6]\n",
    "\n",
    "clf = MLPClassifier(max_iter= 5000, hidden_layer_sizes=(5,2), activation='logistic', verbose=False, learning_rate_init=0.0001)\n",
    "X_train, X_test, y_train, y_test = train_test_split(result, y, test_size=0.2)\n",
    "\n",
    "cv_score = cross_val_score(clf, X_train, y_train, cv=20).mean()\n",
    "print(\"Cross validation score: \" + str(cv_score))\n",
    "\n",
    "start = time.time()\n",
    "clf.fit(X_train, y_train)\n",
    "train_time = time.time() - start\n",
    "print(\"Train time: \" + str(train_time))\n",
    "\n",
    "start = time.time()\n",
    "y_pred = clf.predict(X_test)\n",
    "query_time = time.time() - start\n",
    "print(\"Query time: \" + str(query_time))\n",
    "\n",
    "score = accuracy_score(y_test, y_pred)\n",
    "print(\"Test Accuracy: \" + str(score))"
   ]
  },
  {
   "cell_type": "code",
   "execution_count": 42,
   "metadata": {},
   "outputs": [
    {
     "name": "stdout",
     "output_type": "stream",
     "text": [
      "0.01703257895487564\n",
      "0.0149246238661465\n",
      "0.009012509131575818\n"
     ]
    },
    {
     "name": "stderr",
     "output_type": "stream",
     "text": [
      "C:\\Users\\chang\\AppData\\Roaming\\Python\\Python311\\site-packages\\sklearn\\cluster\\_kmeans.py:870: FutureWarning: The default value of `n_init` will change from 10 to 'auto' in 1.4. Set the value of `n_init` explicitly to suppress the warning\n",
      "  warnings.warn(\n"
     ]
    }
   ],
   "source": [
    "\n",
    "# KMeans = 2\n",
    "X, y = load_data('audit_risk.csv')\n",
    "pca = PCA(n_components= 2).fit(X)\n",
    "X_pca = pca.transform(X)\n",
    "start = time.time()\n",
    "kmeans=KMeans(2).fit(X_pca)\n",
    "labels = kmeans.predict(X_pca)\n",
    "\n",
    "print(v_measure_score(y, labels))\n",
    "print(adjusted_mutual_info_score(y, labels))\n",
    "print(homogeneity_score(y, labels))"
   ]
  },
  {
   "cell_type": "code",
   "execution_count": 43,
   "metadata": {},
   "outputs": [
    {
     "name": "stdout",
     "output_type": "stream",
     "text": [
      "0.00353731589969135\n",
      "0.0009843862577776188\n",
      "0.0017947731571505909\n"
     ]
    }
   ],
   "source": [
    "# Gaussian = 2\n",
    "X, y = load_data('audit_risk.csv')\n",
    "pca = PCA(n_components= 2).fit(X)\n",
    "X_pca = pca.transform(X)\n",
    "start = time.time()\n",
    "kmeans=GaussianMixture(2).fit(X_pca)\n",
    "labels = kmeans.predict(X_pca)\n",
    "\n",
    "print(v_measure_score(y, labels))\n",
    "print(adjusted_mutual_info_score(y, labels))\n",
    "print(homogeneity_score(y, labels))"
   ]
  }
 ],
 "metadata": {
  "kernelspec": {
   "display_name": "Python 3",
   "language": "python",
   "name": "python3"
  },
  "language_info": {
   "codemirror_mode": {
    "name": "ipython",
    "version": 3
   },
   "file_extension": ".py",
   "mimetype": "text/x-python",
   "name": "python",
   "nbconvert_exporter": "python",
   "pygments_lexer": "ipython3",
   "version": "3.11.1"
  }
 },
 "nbformat": 4,
 "nbformat_minor": 4
}
